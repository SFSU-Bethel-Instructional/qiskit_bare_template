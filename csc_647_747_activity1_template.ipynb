{
 "cells": [
  {
   "cell_type": "code",
   "execution_count": 5,
   "id": "04427e44",
   "metadata": {},
   "outputs": [],
   "source": [
    "# your name:\n",
    "# date:\n",
    "# course number:\n",
    "# assignment/activity # and brief stmt of purpose"
   ]
  },
  {
   "cell_type": "code",
   "execution_count": 6,
   "id": "b7450210",
   "metadata": {},
   "outputs": [],
   "source": [
    "# import qiskit and numpy\n",
    "from qiskit import QuantumCircuit, visualization\n",
    "from qiskit import Aer, BasicAer, assemble, transpile, execute\n",
    "from qiskit.quantum_info import Statevector, Operator\n",
    "import numpy as np"
   ]
  },
  {
   "cell_type": "code",
   "execution_count": 7,
   "id": "6f1f5a77",
   "metadata": {},
   "outputs": [],
   "source": [
    "# insert code to print the date"
   ]
  },
  {
   "cell_type": "code",
   "execution_count": 8,
   "id": "4d7d58e0",
   "metadata": {},
   "outputs": [],
   "source": [
    "# insert code to list the available Aer backend simulators \n",
    "# see https://qiskit.org/ecosystem/aer/tutorials/1_aer_provider.html"
   ]
  },
  {
   "cell_type": "code",
   "execution_count": null,
   "id": "bd4ea0fa",
   "metadata": {},
   "outputs": [],
   "source": []
  }
 ],
 "metadata": {
  "kernelspec": {
   "display_name": "Python 3 (ipykernel)",
   "language": "python",
   "name": "python3"
  },
  "language_info": {
   "codemirror_mode": {
    "name": "ipython",
    "version": 3
   },
   "file_extension": ".py",
   "mimetype": "text/x-python",
   "name": "python",
   "nbconvert_exporter": "python",
   "pygments_lexer": "ipython3",
   "version": "3.8.8"
  }
 },
 "nbformat": 4,
 "nbformat_minor": 5
}
